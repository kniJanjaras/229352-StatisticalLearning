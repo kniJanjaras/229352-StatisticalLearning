{
  "cells": [
    {
      "cell_type": "markdown",
      "metadata": {
        "id": "view-in-github",
        "colab_type": "text"
      },
      "source": [
        "<a href=\"https://colab.research.google.com/github/kniJanjaras/229352-StatisticalLearning/blob/main/Lab08_Pytorch.ipynb\" target=\"_parent\"><img src=\"https://colab.research.google.com/assets/colab-badge.svg\" alt=\"Open In Colab\"/></a>"
      ]
    },
    {
      "cell_type": "markdown",
      "metadata": {
        "id": "UUg5mM3PT9hi"
      },
      "source": [
        "### Statistical Learning for Data Science 2 (229352)\n",
        "#### Instructor: Donlapark Ponnoprat\n",
        "\n",
        "#### [Course website](https://donlapark.pages.dev/229352/)\n",
        "\n",
        "## Lab #8"
      ]
    },
    {
      "cell_type": "markdown",
      "metadata": {
        "id": "G-nQb7jGS3PJ"
      },
      "source": [
        "There are several deep learning frameworks in Python.\n",
        "\n",
        "<img src=\"https://upload.wikimedia.org/wikipedia/commons/thumb/c/c6/PyTorch_logo_black.svg/2560px-PyTorch_logo_black.svg.png\" width=\"100\"/>&nbsp;&nbsp;&nbsp;&nbsp;&nbsp;&nbsp;&nbsp;<img src=\"https://upload.wikimedia.org/wikipedia/commons/2/2d/Tensorflow_logo.svg\" width=\"40\"/><img src=\"https://assets-global.website-files.com/621e749a546b7592125f38ed/62277da165ed192adba475fc_JAX.jpg\" width=\"100\"/>\n",
        "\n",
        "In this Lab, we will use PyTorch"
      ]
    },
    {
      "cell_type": "code",
      "execution_count": 60,
      "metadata": {
        "id": "MzJSrt8CSv4p"
      },
      "outputs": [],
      "source": [
        "import numpy as np\n",
        "\n",
        "import torch"
      ]
    },
    {
      "cell_type": "markdown",
      "metadata": {
        "id": "QEsXce8XuwIW"
      },
      "source": [
        "# Tensor basics"
      ]
    },
    {
      "cell_type": "markdown",
      "metadata": {
        "id": "qr1d7mpfrQ-W"
      },
      "source": [
        "## Basic tensor creation"
      ]
    },
    {
      "cell_type": "markdown",
      "metadata": {
        "id": "zoo78UqZZBmo"
      },
      "source": [
        "### Creating a scalar (1D) tensor"
      ]
    },
    {
      "cell_type": "code",
      "execution_count": 61,
      "metadata": {
        "colab": {
          "base_uri": "https://localhost:8080/"
        },
        "id": "8QkirMVZUpfe",
        "outputId": "131b3d72-af3e-4f6f-f460-28fd17beadba"
      },
      "outputs": [
        {
          "output_type": "stream",
          "name": "stdout",
          "text": [
            "tensor(8)\n",
            "tensor(9)\n",
            "tensor(17)\n"
          ]
        }
      ],
      "source": [
        "a = torch.tensor(8)\n",
        "b = torch.tensor(9)\n",
        "print(a)\n",
        "print(b)\n",
        "print(a+b)"
      ]
    },
    {
      "cell_type": "markdown",
      "metadata": {
        "id": "Y2D_T5PPZI4L"
      },
      "source": [
        "### Convert a tensor to scalar"
      ]
    },
    {
      "cell_type": "code",
      "execution_count": 62,
      "metadata": {
        "colab": {
          "base_uri": "https://localhost:8080/"
        },
        "id": "BSkS98iYXVZI",
        "outputId": "07c1e78b-544f-4939-e0d2-1c210d44ec8d"
      },
      "outputs": [
        {
          "output_type": "execute_result",
          "data": {
            "text/plain": [
              "8"
            ]
          },
          "metadata": {},
          "execution_count": 62
        }
      ],
      "source": [
        "a.item()"
      ]
    },
    {
      "cell_type": "markdown",
      "metadata": {
        "id": "wLUTVuu8ZPCV"
      },
      "source": [
        "### Creating 2D tensor"
      ]
    },
    {
      "cell_type": "code",
      "execution_count": 63,
      "metadata": {
        "colab": {
          "base_uri": "https://localhost:8080/"
        },
        "id": "ST-ZldGXX9SY",
        "outputId": "fc19fc80-4cbe-41bb-b19a-063b3e8f68df"
      },
      "outputs": [
        {
          "output_type": "stream",
          "name": "stdout",
          "text": [
            "tensor([[1, 2],\n",
            "        [3, 4]])\n"
          ]
        }
      ],
      "source": [
        "A = torch.tensor([[1, 2], [3, 4]])\n",
        "print(A)"
      ]
    },
    {
      "cell_type": "markdown",
      "metadata": {
        "id": "RL1rmhg8rVgY"
      },
      "source": [
        "## Tensor and Numpy"
      ]
    },
    {
      "cell_type": "markdown",
      "metadata": {
        "id": "1LSTMBVNZjAu"
      },
      "source": [
        "### Convert from tensor to numpy array"
      ]
    },
    {
      "cell_type": "code",
      "execution_count": 64,
      "metadata": {
        "colab": {
          "base_uri": "https://localhost:8080/"
        },
        "id": "I4LkkrQdYbLq",
        "outputId": "cfd34ba9-54f1-4b3d-826a-1a67262da374"
      },
      "outputs": [
        {
          "output_type": "execute_result",
          "data": {
            "text/plain": [
              "array([[1, 2],\n",
              "       [3, 4]])"
            ]
          },
          "metadata": {},
          "execution_count": 64
        }
      ],
      "source": [
        "A.numpy()"
      ]
    },
    {
      "cell_type": "markdown",
      "metadata": {
        "id": "xcFexnBYZn73"
      },
      "source": [
        "### Convert from numpy array to tensor"
      ]
    },
    {
      "cell_type": "code",
      "execution_count": 65,
      "metadata": {
        "colab": {
          "base_uri": "https://localhost:8080/"
        },
        "id": "lDRLWyGkZmjM",
        "outputId": "c78e93b7-63fd-450a-db14-96cb4eb227ae"
      },
      "outputs": [
        {
          "output_type": "stream",
          "name": "stdout",
          "text": [
            "tensor([[1, 2],\n",
            "        [3, 4]])\n"
          ]
        }
      ],
      "source": [
        "B = np.array([[1, 2], [3, 4]])\n",
        "\n",
        "C = torch.from_numpy(B)\n",
        "print(C)"
      ]
    },
    {
      "cell_type": "markdown",
      "metadata": {
        "id": "5bLYQUdDb47c"
      },
      "source": [
        "## Basic operations"
      ]
    },
    {
      "cell_type": "code",
      "execution_count": 66,
      "metadata": {
        "colab": {
          "base_uri": "https://localhost:8080/"
        },
        "id": "O1ZL-UgraQZG",
        "outputId": "6adb05d8-f9e5-4e96-bc8a-ecd99255bc72"
      },
      "outputs": [
        {
          "output_type": "stream",
          "name": "stdout",
          "text": [
            "tensor([[2, 4],\n",
            "        [6, 8]])\n",
            "tensor([[-9, -8],\n",
            "        [-7, -6]])\n"
          ]
        }
      ],
      "source": [
        "D = 2*C\n",
        "\n",
        "E = C - 10\n",
        "\n",
        "print(D)\n",
        "print(E)"
      ]
    },
    {
      "cell_type": "markdown",
      "metadata": {
        "id": "K_k3thRzrdpd"
      },
      "source": [
        "### Matrix multiplication"
      ]
    },
    {
      "cell_type": "code",
      "execution_count": 67,
      "metadata": {
        "colab": {
          "base_uri": "https://localhost:8080/"
        },
        "id": "d1XwpoNaakY2",
        "outputId": "911bada7-c107-4c63-be47-16cb8a866306"
      },
      "outputs": [
        {
          "output_type": "stream",
          "name": "stdout",
          "text": [
            "tensor([[ -46,  -40],\n",
            "        [-110,  -96]])\n",
            "tensor([[ -46,  -40],\n",
            "        [-110,  -96]])\n",
            "tensor([[ -46,  -40],\n",
            "        [-110,  -96]])\n"
          ]
        }
      ],
      "source": [
        "print(torch.matmul(D, E))\n",
        "print(torch.mm(D, E))\n",
        "print(D @ E)"
      ]
    },
    {
      "cell_type": "markdown",
      "metadata": {
        "id": "TwJki4afrf0m"
      },
      "source": [
        "### Matrix transpose"
      ]
    },
    {
      "cell_type": "code",
      "execution_count": 68,
      "metadata": {
        "colab": {
          "base_uri": "https://localhost:8080/"
        },
        "id": "IumkARr4g3Nv",
        "outputId": "4e163622-a5a4-4d2e-8093-cf091752ce53"
      },
      "outputs": [
        {
          "output_type": "stream",
          "name": "stdout",
          "text": [
            "tensor([[1, 2],\n",
            "        [3, 4]])\n",
            "tensor([[1, 3],\n",
            "        [2, 4]])\n"
          ]
        }
      ],
      "source": [
        "print(C)\n",
        "print( C.t() )"
      ]
    },
    {
      "cell_type": "markdown",
      "metadata": {
        "id": "AuwWEOBYcbiL"
      },
      "source": [
        "## Creating a specific type of tensor"
      ]
    },
    {
      "cell_type": "code",
      "execution_count": 69,
      "metadata": {
        "id": "Vg757DJLaoqh"
      },
      "outputs": [],
      "source": [
        "# print(torch.zeros(2,3))\n",
        "# print(torch.ones(2,3))\n",
        "# print(torch.rand(2,3))\n",
        "# print(torch.randn(2,3))  # sample each number from N(0, 1)\n",
        "# print(torch.arange(9))"
      ]
    },
    {
      "cell_type": "code",
      "source": [
        "print(torch.ones(2,3))"
      ],
      "metadata": {
        "colab": {
          "base_uri": "https://localhost:8080/"
        },
        "id": "aiTsYSJGvIVM",
        "outputId": "638137fe-c378-4ece-c183-0290b4f7208a"
      },
      "execution_count": 70,
      "outputs": [
        {
          "output_type": "stream",
          "name": "stdout",
          "text": [
            "tensor([[1., 1., 1.],\n",
            "        [1., 1., 1.]])\n"
          ]
        }
      ]
    },
    {
      "cell_type": "code",
      "source": [
        "print(torch.zeros(2,3))"
      ],
      "metadata": {
        "colab": {
          "base_uri": "https://localhost:8080/"
        },
        "id": "myDmk_RMvJr4",
        "outputId": "582f46a2-a644-427b-d4d3-eecd88ff5dc7"
      },
      "execution_count": 71,
      "outputs": [
        {
          "output_type": "stream",
          "name": "stdout",
          "text": [
            "tensor([[0., 0., 0.],\n",
            "        [0., 0., 0.]])\n"
          ]
        }
      ]
    },
    {
      "cell_type": "code",
      "source": [
        "print(torch.rand(2,3))"
      ],
      "metadata": {
        "colab": {
          "base_uri": "https://localhost:8080/"
        },
        "id": "K1EVnW3dvLYR",
        "outputId": "1368ee16-7b69-4d10-ae80-6db7937ceaee"
      },
      "execution_count": 72,
      "outputs": [
        {
          "output_type": "stream",
          "name": "stdout",
          "text": [
            "tensor([[0.4901, 0.5210, 0.5850],\n",
            "        [0.8046, 0.2228, 0.6400]])\n"
          ]
        }
      ]
    },
    {
      "cell_type": "code",
      "source": [
        "print(torch.randn(2,3))"
      ],
      "metadata": {
        "colab": {
          "base_uri": "https://localhost:8080/"
        },
        "id": "eAc6nafnvOi4",
        "outputId": "06ba1882-3d91-43b2-aaec-7c465e9c37e1"
      },
      "execution_count": 73,
      "outputs": [
        {
          "output_type": "stream",
          "name": "stdout",
          "text": [
            "tensor([[-1.0309, -0.6497,  0.1146],\n",
            "        [-0.2398,  0.5303, -0.7381]])\n"
          ]
        }
      ]
    },
    {
      "cell_type": "code",
      "source": [
        "print(torch.arange(9))"
      ],
      "metadata": {
        "colab": {
          "base_uri": "https://localhost:8080/"
        },
        "id": "nCc4yX5LvTJA",
        "outputId": "89a3030d-9240-4b5e-b333-c334610a7fd3"
      },
      "execution_count": 74,
      "outputs": [
        {
          "output_type": "stream",
          "name": "stdout",
          "text": [
            "tensor([0, 1, 2, 3, 4, 5, 6, 7, 8])\n"
          ]
        }
      ]
    },
    {
      "cell_type": "markdown",
      "metadata": {
        "id": "aUeodCiLrofw"
      },
      "source": [
        "## Tensor's shape"
      ]
    },
    {
      "cell_type": "markdown",
      "metadata": {
        "id": "qJTX5WOHhVsB"
      },
      "source": [
        "### Checking the shape of a tensor"
      ]
    },
    {
      "cell_type": "code",
      "execution_count": 75,
      "metadata": {
        "colab": {
          "base_uri": "https://localhost:8080/"
        },
        "id": "Nzn5Lyqfhcmf",
        "outputId": "4c87d54b-5e66-4ee1-8512-7da66cc0eb1c"
      },
      "outputs": [
        {
          "output_type": "stream",
          "name": "stdout",
          "text": [
            "torch.Size([4, 5])\n",
            "torch.Size([4, 5])\n"
          ]
        }
      ],
      "source": [
        "F = torch.zeros((4, 5))\n",
        "print(F.shape)\n",
        "print(F.size())"
      ]
    },
    {
      "cell_type": "markdown",
      "metadata": {
        "id": "Vf21H-EvgE87"
      },
      "source": [
        "### Changing the shape of a tensor"
      ]
    },
    {
      "cell_type": "code",
      "execution_count": 76,
      "metadata": {
        "colab": {
          "base_uri": "https://localhost:8080/"
        },
        "id": "o71IJ7_ic1U8",
        "outputId": "9d33e1f0-6b5a-4d16-a7c4-a17560b3a30b"
      },
      "outputs": [
        {
          "output_type": "stream",
          "name": "stdout",
          "text": [
            "tensor([[0, 1, 2],\n",
            "        [3, 4, 5]])\n",
            "tensor([[0, 1, 2],\n",
            "        [3, 4, 5]])\n"
          ]
        }
      ],
      "source": [
        "G = torch.arange(6)\n",
        "print(G.view(2, 3))\n",
        "print(G.reshape(2, 3))"
      ]
    },
    {
      "cell_type": "markdown",
      "metadata": {
        "id": "7nZgFYT5gd2_"
      },
      "source": [
        "In general, use `reshape`, but if you are worried about the memory usage, use `view`."
      ]
    },
    {
      "cell_type": "markdown",
      "metadata": {
        "id": "uEA3iRzznjNx"
      },
      "source": [
        "### Stacking and concatenating tensors"
      ]
    },
    {
      "cell_type": "code",
      "execution_count": 77,
      "metadata": {
        "colab": {
          "base_uri": "https://localhost:8080/"
        },
        "id": "MQ6JEjsmgbpI",
        "outputId": "d3eec428-5bfe-443f-8ec3-4eea65bb8ef9"
      },
      "outputs": [
        {
          "output_type": "stream",
          "name": "stdout",
          "text": [
            "tensor([[0, 1, 2, 3, 4, 5],\n",
            "        [0, 1, 2, 3, 4, 5],\n",
            "        [0, 1, 2, 3, 4, 5],\n",
            "        [0, 1, 2, 3, 4, 5]])\n",
            "tensor([[0, 0, 0, 0],\n",
            "        [1, 1, 1, 1],\n",
            "        [2, 2, 2, 2],\n",
            "        [3, 3, 3, 3],\n",
            "        [4, 4, 4, 4],\n",
            "        [5, 5, 5, 5]])\n"
          ]
        }
      ],
      "source": [
        "H = torch.arange(6)\n",
        "I = torch.stack([H, H, H, H], axis=0)\n",
        "J = torch.stack([H, H, H, H], axis=1)\n",
        "print(I)\n",
        "print(J)"
      ]
    },
    {
      "cell_type": "code",
      "execution_count": 78,
      "metadata": {
        "colab": {
          "base_uri": "https://localhost:8080/"
        },
        "id": "Zkz--DJuXyD1",
        "outputId": "c188e7b4-1503-4e93-ae3f-c51e01ca7aad"
      },
      "outputs": [
        {
          "output_type": "stream",
          "name": "stdout",
          "text": [
            "tensor([0, 1, 2, 3, 4, 5, 0, 1, 2, 3, 4, 5, 0, 1, 2, 3, 4, 5, 0, 1, 2, 3, 4, 5])\n"
          ]
        }
      ],
      "source": [
        "# concatenate\n",
        "\n",
        "I = torch.cat([H, H, H, H], axis=0)\n",
        "print(I)\n",
        "# J = torch.cat([H, H, H, H], axis=1)\n",
        "#print(J)"
      ]
    },
    {
      "cell_type": "markdown",
      "metadata": {
        "id": "eWd_-Ub_pF3b"
      },
      "source": [
        "### Squeezing a tensor (removing an extra dimension)"
      ]
    },
    {
      "cell_type": "code",
      "execution_count": 79,
      "metadata": {
        "colab": {
          "base_uri": "https://localhost:8080/"
        },
        "id": "gf8iDb_PoX_4",
        "outputId": "0f66af3c-4efd-498a-ffc7-21ddc24100c6"
      },
      "outputs": [
        {
          "output_type": "stream",
          "name": "stdout",
          "text": [
            "H= tensor([0, 1, 2, 3, 4, 5])\n",
            "K= tensor([[0, 1, 2, 3, 4, 5]])\n",
            "torch.Size([1, 6])\n"
          ]
        }
      ],
      "source": [
        "# [[1,2]] this is (1,2) tensor, want (2,)\n",
        "print(\"H=\", H) # shape = (6,)\n",
        "K = H.reshape(1,6)\n",
        "print(\"K=\", K)\n",
        "print(K.shape)"
      ]
    },
    {
      "cell_type": "code",
      "execution_count": 80,
      "metadata": {
        "colab": {
          "base_uri": "https://localhost:8080/"
        },
        "id": "Ke3ro96Cp7rT",
        "outputId": "98cfdf01-194c-4d50-eb16-cd0fbfe7582e"
      },
      "outputs": [
        {
          "output_type": "stream",
          "name": "stdout",
          "text": [
            "tensor([0, 1, 2, 3, 4, 5])\n"
          ]
        }
      ],
      "source": [
        "print(K.squeeze())"
      ]
    },
    {
      "cell_type": "code",
      "execution_count": 81,
      "metadata": {
        "colab": {
          "base_uri": "https://localhost:8080/"
        },
        "id": "DJxWfoyOqaQs",
        "outputId": "0bd2fc75-51ae-49e1-b1ee-f50cb3fdb188"
      },
      "outputs": [
        {
          "output_type": "stream",
          "name": "stdout",
          "text": [
            "tensor([[0, 1, 2, 3, 4, 5]])\n",
            "tensor([[0],\n",
            "        [1],\n",
            "        [2],\n",
            "        [3],\n",
            "        [4],\n",
            "        [5]])\n"
          ]
        }
      ],
      "source": [
        "# H.shape = (6, )\n",
        "L = H.unsqueeze(axis=0)  # L.shape(1, 6)\n",
        "M = H.unsqueeze(axis=1)  # L.shape(6, 1)\n",
        "print(L)\n",
        "print(M)"
      ]
    },
    {
      "cell_type": "markdown",
      "metadata": {
        "id": "bfaM--ZlsUsB"
      },
      "source": [
        "## Indexing"
      ]
    },
    {
      "cell_type": "code",
      "execution_count": 82,
      "metadata": {
        "colab": {
          "base_uri": "https://localhost:8080/"
        },
        "id": "fPqsnD8qsWsH",
        "outputId": "74ed1381-a3a5-4e0e-d554-0fe3b1da0c87"
      },
      "outputs": [
        {
          "output_type": "stream",
          "name": "stdout",
          "text": [
            "tensor([[ 0,  1,  2,  3],\n",
            "        [ 4,  5,  6,  7],\n",
            "        [ 8,  9, 10, 11]])\n",
            "tensor([0, 1, 2, 3])\n",
            "tensor([0, 4, 8])\n",
            "tensor([ 8,  9, 10, 11])\n",
            "tensor([ 3,  7, 11])\n",
            "tensor([[ 4,  5,  6,  7],\n",
            "        [ 8,  9, 10, 11]])\n",
            "tensor([[ 2,  3],\n",
            "        [ 6,  7],\n",
            "        [10, 11]])\n"
          ]
        }
      ],
      "source": [
        "P = torch.arange(12).reshape(3,4)\n",
        "print(P)\n",
        "print(P[0])\n",
        "print(P[:, 0])\n",
        "print(P[-1])\n",
        "print(P[:, -1])\n",
        "print(P[-2:])\n",
        "print(P[:, -2:])"
      ]
    },
    {
      "cell_type": "markdown",
      "metadata": {
        "id": "ftVXJ-3ur9yk"
      },
      "source": [
        "## PyTorch and GPU"
      ]
    },
    {
      "cell_type": "markdown",
      "metadata": {
        "id": "2TmzZR23sKOW"
      },
      "source": [
        "check if GPU is available"
      ]
    },
    {
      "cell_type": "code",
      "execution_count": 83,
      "metadata": {
        "colab": {
          "base_uri": "https://localhost:8080/"
        },
        "id": "TSiXGmqrqyzw",
        "outputId": "9808c47d-de15-4222-9728-81f66f6cb57c"
      },
      "outputs": [
        {
          "output_type": "execute_result",
          "data": {
            "text/plain": [
              "True"
            ]
          },
          "metadata": {},
          "execution_count": 83
        }
      ],
      "source": [
        "torch.cuda.is_available()"
      ]
    },
    {
      "cell_type": "code",
      "execution_count": 84,
      "metadata": {
        "colab": {
          "base_uri": "https://localhost:8080/"
        },
        "id": "wjDt08_7sMxz",
        "outputId": "a9b38e1a-ecd6-4399-d2fe-3bcbcd9b976b"
      },
      "outputs": [
        {
          "output_type": "stream",
          "name": "stdout",
          "text": [
            "cpu\n"
          ]
        }
      ],
      "source": [
        "Q = torch.tensor([1, 2, 3])\n",
        "print(Q.device)"
      ]
    },
    {
      "cell_type": "code",
      "execution_count": 85,
      "metadata": {
        "colab": {
          "base_uri": "https://localhost:8080/"
        },
        "id": "7BitUf-RtdG3",
        "outputId": "125571da-4dab-490a-f7eb-fb4668ecba68"
      },
      "outputs": [
        {
          "output_type": "stream",
          "name": "stdout",
          "text": [
            "cpu\n",
            "cuda:0\n"
          ]
        }
      ],
      "source": [
        "R = Q.to('cuda')\n",
        "print(Q.device)\n",
        "print(R.device)"
      ]
    },
    {
      "cell_type": "code",
      "execution_count": 86,
      "metadata": {
        "colab": {
          "base_uri": "https://localhost:8080/"
        },
        "id": "PbsTOQ-Itiax",
        "outputId": "1e021d88-f580-4e00-f28b-1074b4254def"
      },
      "outputs": [
        {
          "output_type": "execute_result",
          "data": {
            "text/plain": [
              "array([1, 2, 3])"
            ]
          },
          "metadata": {},
          "execution_count": 86
        }
      ],
      "source": [
        "R.cpu().numpy()"
      ]
    },
    {
      "cell_type": "code",
      "execution_count": 86,
      "metadata": {
        "id": "RkI3ITOLt2S6"
      },
      "outputs": [],
      "source": []
    },
    {
      "cell_type": "markdown",
      "metadata": {
        "id": "aZBZ3f66AFye"
      },
      "source": [
        "# Exercise\n",
        "\n",
        "In this exercise, we will simulate data to perform linear regression with 200 rows and 7 variables.\n",
        "\n",
        "1. Create three random $N(0,1)$ tensors: `X`, `b` and `e` with `X.shape = (200, 7)`, `b.shape = (8, 1)` and `e.shape = (200, 1)` respectively.\n",
        "2. Create a tensor that contains only 1's with shape `(200, 1)`.\n",
        "3. Modify tensor `X` by adding the tensor in 2. as the first column.\n",
        "4. Compute `y` using the following formula:\n",
        "$$ y = Xb + e $$.\n",
        "5. Fit a linear regression to the data `X` and `y` and obtain a tensor of estimated coefficient `b_hat`. The formula for `b_hat` is given by:\n",
        "$$ \\hat{b} = (X^TX)^{-1}X^Ty $$\n",
        "Note: use `torch.inverse(...)` to calculate the inverse\n",
        "6. Compute the predictions `y_hat`, given by:\n",
        "$$ \\hat{y} = X\\hat{b} $$\n",
        "7. Convert both `y` and `y_hat` from tensor to Numpy array and calculate MSE:\n",
        "$$ MSE = \\frac{1}{200}\\sum_{i=1}^{200} (y_i - \\hat{y}_i)^2 $$"
      ]
    },
    {
      "cell_type": "code",
      "execution_count": 87,
      "metadata": {
        "colab": {
          "base_uri": "https://localhost:8080/"
        },
        "id": "eQOsf3B_QnvN",
        "outputId": "f3c07831-f692-4f10-8075-f1e1d2f3b947"
      },
      "outputs": [
        {
          "output_type": "stream",
          "name": "stdout",
          "text": [
            "tensor([[2, 3, 2],\n",
            "        [4, 6, 7],\n",
            "        [7, 2, 4]])\n",
            "tensor([[1, 2, 3, 2],\n",
            "        [1, 4, 6, 7],\n",
            "        [1, 7, 2, 4]])\n"
          ]
        }
      ],
      "source": [
        "X = torch.tensor([[2, 3, 2], [4, 6, 7], [7, 2, 4]])\n",
        "print(X)\n",
        "\n",
        "X = torch.tensor([[1, 2, 3, 2], [1, 4, 6, 7], [1, 7, 2, 4]])\n",
        "print(X)"
      ]
    },
    {
      "cell_type": "code",
      "execution_count": 88,
      "metadata": {
        "id": "Qm_SlwkZQ_i1"
      },
      "outputs": [],
      "source": [
        "#1. random N(0,1) ใช้ torch.rand\n",
        "X = torch.rand(200,7)\n",
        "b = torch.rand(8,1)\n",
        "e = torch.rand(200,1)"
      ]
    },
    {
      "cell_type": "code",
      "source": [
        "print(X.size())\n",
        "print(b.size())\n",
        "print(e.size())"
      ],
      "metadata": {
        "id": "0Ylk99-7Xuf7",
        "colab": {
          "base_uri": "https://localhost:8080/"
        },
        "outputId": "a7c7d26b-7975-4805-b1c9-a14653b1c522"
      },
      "execution_count": 89,
      "outputs": [
        {
          "output_type": "stream",
          "name": "stdout",
          "text": [
            "torch.Size([200, 7])\n",
            "torch.Size([8, 1])\n",
            "torch.Size([200, 1])\n"
          ]
        }
      ]
    },
    {
      "cell_type": "code",
      "source": [
        "#2. create\n",
        "one = torch.ones(200,1)\n",
        "print(one.shape)"
      ],
      "metadata": {
        "id": "tnzGSBZ8X-oH",
        "colab": {
          "base_uri": "https://localhost:8080/"
        },
        "outputId": "81ab166c-9f0f-4c31-e455-04cb0e5859eb"
      },
      "execution_count": 90,
      "outputs": [
        {
          "output_type": "stream",
          "name": "stdout",
          "text": [
            "torch.Size([200, 1])\n"
          ]
        }
      ]
    },
    {
      "cell_type": "code",
      "source": [
        "#3. modify tensor X\n",
        "X = torch.cat([one, X], dim =1)\n",
        "\n",
        "print(X.shape)"
      ],
      "metadata": {
        "colab": {
          "base_uri": "https://localhost:8080/"
        },
        "id": "94KPqtXPvzwq",
        "outputId": "81c33662-0983-45e6-932e-c313e6205d92"
      },
      "execution_count": 91,
      "outputs": [
        {
          "output_type": "stream",
          "name": "stdout",
          "text": [
            "torch.Size([200, 8])\n"
          ]
        }
      ]
    },
    {
      "cell_type": "code",
      "source": [
        "#4. comput y \"y = Xb +e\"\n",
        "y = X @ b + e\n",
        "print(y)"
      ],
      "metadata": {
        "id": "lXwRRFpFZve3",
        "colab": {
          "base_uri": "https://localhost:8080/"
        },
        "outputId": "a2c8ee0e-60ad-4734-a508-ce19b94b43a4"
      },
      "execution_count": 92,
      "outputs": [
        {
          "output_type": "stream",
          "name": "stdout",
          "text": [
            "tensor([[2.1867],\n",
            "        [1.3453],\n",
            "        [1.7612],\n",
            "        [2.9144],\n",
            "        [2.7352],\n",
            "        [1.9293],\n",
            "        [2.3765],\n",
            "        [2.2230],\n",
            "        [3.2829],\n",
            "        [2.4675],\n",
            "        [3.1561],\n",
            "        [2.0380],\n",
            "        [2.3275],\n",
            "        [2.7140],\n",
            "        [1.9877],\n",
            "        [2.6294],\n",
            "        [2.1284],\n",
            "        [2.6556],\n",
            "        [2.3952],\n",
            "        [1.9665],\n",
            "        [2.2826],\n",
            "        [1.1899],\n",
            "        [2.3482],\n",
            "        [2.0304],\n",
            "        [2.9763],\n",
            "        [3.4965],\n",
            "        [2.2701],\n",
            "        [2.5759],\n",
            "        [2.2759],\n",
            "        [2.0102],\n",
            "        [2.5669],\n",
            "        [3.0004],\n",
            "        [1.3919],\n",
            "        [2.3565],\n",
            "        [2.2911],\n",
            "        [1.7002],\n",
            "        [1.9913],\n",
            "        [2.0004],\n",
            "        [2.9456],\n",
            "        [2.0820],\n",
            "        [2.0098],\n",
            "        [2.3056],\n",
            "        [1.3049],\n",
            "        [1.9178],\n",
            "        [1.8992],\n",
            "        [2.5282],\n",
            "        [1.8523],\n",
            "        [2.6676],\n",
            "        [2.6502],\n",
            "        [2.4109],\n",
            "        [2.6863],\n",
            "        [2.2696],\n",
            "        [2.0760],\n",
            "        [1.1242],\n",
            "        [2.7097],\n",
            "        [1.8457],\n",
            "        [1.9374],\n",
            "        [1.8138],\n",
            "        [3.1186],\n",
            "        [2.5262],\n",
            "        [1.5599],\n",
            "        [2.2177],\n",
            "        [2.7517],\n",
            "        [2.3034],\n",
            "        [2.0407],\n",
            "        [1.9692],\n",
            "        [2.4334],\n",
            "        [2.1850],\n",
            "        [3.2225],\n",
            "        [2.5602],\n",
            "        [1.8492],\n",
            "        [2.7823],\n",
            "        [1.5398],\n",
            "        [3.0667],\n",
            "        [1.7574],\n",
            "        [1.7117],\n",
            "        [2.0231],\n",
            "        [1.9497],\n",
            "        [2.3642],\n",
            "        [2.9549],\n",
            "        [2.7602],\n",
            "        [2.6176],\n",
            "        [2.0433],\n",
            "        [1.4396],\n",
            "        [2.0202],\n",
            "        [1.9878],\n",
            "        [2.4659],\n",
            "        [2.0415],\n",
            "        [1.9988],\n",
            "        [2.2788],\n",
            "        [2.1756],\n",
            "        [2.0949],\n",
            "        [3.1547],\n",
            "        [2.1522],\n",
            "        [2.3471],\n",
            "        [1.7204],\n",
            "        [2.3455],\n",
            "        [1.5390],\n",
            "        [2.7797],\n",
            "        [2.3027],\n",
            "        [2.4570],\n",
            "        [1.7367],\n",
            "        [3.0819],\n",
            "        [2.6375],\n",
            "        [1.4553],\n",
            "        [2.4549],\n",
            "        [2.6875],\n",
            "        [1.7894],\n",
            "        [2.1788],\n",
            "        [1.5379],\n",
            "        [2.4552],\n",
            "        [2.0521],\n",
            "        [2.2902],\n",
            "        [2.6471],\n",
            "        [2.6917],\n",
            "        [1.7326],\n",
            "        [2.4829],\n",
            "        [3.0259],\n",
            "        [1.9057],\n",
            "        [1.6514],\n",
            "        [2.5195],\n",
            "        [2.3741],\n",
            "        [2.9519],\n",
            "        [2.4271],\n",
            "        [1.8985],\n",
            "        [2.3822],\n",
            "        [1.8588],\n",
            "        [2.3931],\n",
            "        [1.1399],\n",
            "        [3.0404],\n",
            "        [2.0340],\n",
            "        [1.4762],\n",
            "        [3.0114],\n",
            "        [2.6983],\n",
            "        [2.2918],\n",
            "        [3.4576],\n",
            "        [2.4193],\n",
            "        [2.1663],\n",
            "        [2.1949],\n",
            "        [2.1580],\n",
            "        [1.3295],\n",
            "        [2.0824],\n",
            "        [2.7050],\n",
            "        [1.0593],\n",
            "        [2.7042],\n",
            "        [2.6063],\n",
            "        [2.1354],\n",
            "        [2.4860],\n",
            "        [1.7630],\n",
            "        [1.8432],\n",
            "        [2.3315],\n",
            "        [2.3598],\n",
            "        [2.8156],\n",
            "        [2.5380],\n",
            "        [2.5674],\n",
            "        [2.8139],\n",
            "        [2.6001],\n",
            "        [2.6507],\n",
            "        [3.1145],\n",
            "        [2.8947],\n",
            "        [2.4473],\n",
            "        [2.4713],\n",
            "        [2.2366],\n",
            "        [1.7652],\n",
            "        [2.1901],\n",
            "        [1.3382],\n",
            "        [1.7733],\n",
            "        [2.0144],\n",
            "        [1.6066],\n",
            "        [3.6221],\n",
            "        [2.5078],\n",
            "        [2.6258],\n",
            "        [2.2756],\n",
            "        [2.6943],\n",
            "        [1.5313],\n",
            "        [1.2997],\n",
            "        [3.1906],\n",
            "        [3.0246],\n",
            "        [1.7191],\n",
            "        [1.9203],\n",
            "        [2.3891],\n",
            "        [2.3555],\n",
            "        [1.7120],\n",
            "        [2.6441],\n",
            "        [2.1317],\n",
            "        [2.4445],\n",
            "        [1.6527],\n",
            "        [2.8854],\n",
            "        [2.0739],\n",
            "        [2.6675],\n",
            "        [3.2424],\n",
            "        [2.5029],\n",
            "        [2.1527],\n",
            "        [1.2856],\n",
            "        [2.3503],\n",
            "        [1.5239],\n",
            "        [1.8164],\n",
            "        [2.4440],\n",
            "        [2.1626],\n",
            "        [1.4281]])\n"
          ]
        }
      ]
    },
    {
      "cell_type": "code",
      "source": [
        "#5. หาb_hat\n",
        "b_hat = torch.inverse(X.T @ X) @( X.T @ y)\n",
        "print(b_hat)"
      ],
      "metadata": {
        "id": "0TmcftoVaw1t",
        "colab": {
          "base_uri": "https://localhost:8080/"
        },
        "outputId": "d651f7e1-de7b-4511-84c4-7c6cb4e61da6"
      },
      "execution_count": 98,
      "outputs": [
        {
          "output_type": "stream",
          "name": "stdout",
          "text": [
            "tensor([[0.5845],\n",
            "        [0.0772],\n",
            "        [0.3978],\n",
            "        [1.0105],\n",
            "        [0.8417],\n",
            "        [0.0456],\n",
            "        [0.6789],\n",
            "        [0.2275]])\n"
          ]
        }
      ]
    },
    {
      "cell_type": "code",
      "source": [
        "#6. หาy_hat\n",
        "y_hat = X @ b_hat\n",
        "print(y_hat)"
      ],
      "metadata": {
        "id": "GCcrqSnRbs9c",
        "colab": {
          "base_uri": "https://localhost:8080/"
        },
        "outputId": "6487801c-bcf0-4b4c-d897-2bb10911442d"
      },
      "execution_count": 99,
      "outputs": [
        {
          "output_type": "stream",
          "name": "stdout",
          "text": [
            "tensor([[2.5858],\n",
            "        [1.4344],\n",
            "        [2.1063],\n",
            "        [3.0317],\n",
            "        [2.4133],\n",
            "        [1.8238],\n",
            "        [2.0706],\n",
            "        [2.1391],\n",
            "        [3.0320],\n",
            "        [2.0846],\n",
            "        [2.8915],\n",
            "        [2.0585],\n",
            "        [2.1506],\n",
            "        [2.2953],\n",
            "        [1.7762],\n",
            "        [2.7414],\n",
            "        [2.4286],\n",
            "        [2.6088],\n",
            "        [2.5063],\n",
            "        [2.5226],\n",
            "        [2.0910],\n",
            "        [1.4621],\n",
            "        [2.3262],\n",
            "        [2.3112],\n",
            "        [2.5471],\n",
            "        [3.0925],\n",
            "        [2.4444],\n",
            "        [2.2661],\n",
            "        [2.1219],\n",
            "        [2.2375],\n",
            "        [2.7724],\n",
            "        [2.7628],\n",
            "        [1.5035],\n",
            "        [2.5703],\n",
            "        [2.2485],\n",
            "        [2.1156],\n",
            "        [2.1829],\n",
            "        [2.1233],\n",
            "        [2.7429],\n",
            "        [2.2504],\n",
            "        [2.4497],\n",
            "        [2.0142],\n",
            "        [1.7499],\n",
            "        [2.3138],\n",
            "        [2.3106],\n",
            "        [2.3336],\n",
            "        [2.0259],\n",
            "        [2.6502],\n",
            "        [2.2820],\n",
            "        [2.1376],\n",
            "        [2.3534],\n",
            "        [2.0414],\n",
            "        [2.0567],\n",
            "        [1.2803],\n",
            "        [2.7973],\n",
            "        [1.8200],\n",
            "        [2.0007],\n",
            "        [2.1558],\n",
            "        [2.6647],\n",
            "        [2.4868],\n",
            "        [1.5135],\n",
            "        [2.1323],\n",
            "        [3.0045],\n",
            "        [2.1921],\n",
            "        [1.7393],\n",
            "        [2.1390],\n",
            "        [2.1533],\n",
            "        [2.2305],\n",
            "        [2.8535],\n",
            "        [2.5392],\n",
            "        [2.1956],\n",
            "        [2.7232],\n",
            "        [1.6953],\n",
            "        [2.7334],\n",
            "        [2.1278],\n",
            "        [2.1711],\n",
            "        [2.2179],\n",
            "        [1.9698],\n",
            "        [2.3767],\n",
            "        [3.0176],\n",
            "        [2.5887],\n",
            "        [2.1964],\n",
            "        [2.0092],\n",
            "        [1.7498],\n",
            "        [1.5926],\n",
            "        [2.3771],\n",
            "        [2.2805],\n",
            "        [2.1773],\n",
            "        [2.1016],\n",
            "        [2.3783],\n",
            "        [2.5753],\n",
            "        [2.4530],\n",
            "        [2.7539],\n",
            "        [1.7906],\n",
            "        [2.0259],\n",
            "        [1.7509],\n",
            "        [1.8982],\n",
            "        [1.9651],\n",
            "        [2.4105],\n",
            "        [2.7022],\n",
            "        [2.1596],\n",
            "        [1.6620],\n",
            "        [3.0881],\n",
            "        [2.2250],\n",
            "        [1.6940],\n",
            "        [2.3059],\n",
            "        [2.2308],\n",
            "        [2.2109],\n",
            "        [2.6951],\n",
            "        [1.9133],\n",
            "        [2.2366],\n",
            "        [1.7217],\n",
            "        [2.3430],\n",
            "        [2.3324],\n",
            "        [2.7139],\n",
            "        [1.8168],\n",
            "        [2.4969],\n",
            "        [2.8517],\n",
            "        [1.4326],\n",
            "        [2.0001],\n",
            "        [2.8726],\n",
            "        [2.5649],\n",
            "        [2.5908],\n",
            "        [1.8856],\n",
            "        [1.8534],\n",
            "        [2.7297],\n",
            "        [2.3394],\n",
            "        [2.8350],\n",
            "        [1.2991],\n",
            "        [2.6704],\n",
            "        [1.9512],\n",
            "        [1.6174],\n",
            "        [3.0958],\n",
            "        [3.2572],\n",
            "        [2.3412],\n",
            "        [3.3575],\n",
            "        [2.4610],\n",
            "        [2.0897],\n",
            "        [2.5314],\n",
            "        [1.8604],\n",
            "        [1.5515],\n",
            "        [2.5569],\n",
            "        [2.2453],\n",
            "        [1.2901],\n",
            "        [2.2190],\n",
            "        [2.4349],\n",
            "        [2.1065],\n",
            "        [2.5233],\n",
            "        [1.5321],\n",
            "        [2.1350],\n",
            "        [2.1961],\n",
            "        [2.5283],\n",
            "        [2.6369],\n",
            "        [2.3392],\n",
            "        [2.8243],\n",
            "        [2.5531],\n",
            "        [2.4253],\n",
            "        [2.2131],\n",
            "        [2.8619],\n",
            "        [2.5515],\n",
            "        [2.0265],\n",
            "        [2.8096],\n",
            "        [2.3877],\n",
            "        [1.9774],\n",
            "        [2.1163],\n",
            "        [1.6465],\n",
            "        [2.0276],\n",
            "        [2.1789],\n",
            "        [1.6370],\n",
            "        [3.3435],\n",
            "        [2.0869],\n",
            "        [2.3527],\n",
            "        [2.2122],\n",
            "        [2.3299],\n",
            "        [1.6426],\n",
            "        [1.6382],\n",
            "        [2.7488],\n",
            "        [2.6712],\n",
            "        [1.5685],\n",
            "        [1.6946],\n",
            "        [2.1273],\n",
            "        [2.5350],\n",
            "        [2.2198],\n",
            "        [2.8844],\n",
            "        [2.3740],\n",
            "        [2.3643],\n",
            "        [1.8169],\n",
            "        [2.8639],\n",
            "        [1.7690],\n",
            "        [2.9002],\n",
            "        [2.6766],\n",
            "        [2.6965],\n",
            "        [2.1000],\n",
            "        [1.7424],\n",
            "        [2.7280],\n",
            "        [1.7566],\n",
            "        [2.0625],\n",
            "        [2.4518],\n",
            "        [2.4574],\n",
            "        [1.5476]])\n"
          ]
        }
      ]
    },
    {
      "cell_type": "code",
      "source": [
        "#7. Convert both y and y_hat from tensor to Numpy array and calculate MSE\n",
        "y_np = y.numpy()\n",
        "y_hat_np = y_hat.detach().numpy()\n",
        "\n",
        "MSE = np.mean((y_np - y_hat_np) ** 2)\n",
        "print(\"MSE:\", MSE)"
      ],
      "metadata": {
        "id": "MTTHD8CTb28o",
        "colab": {
          "base_uri": "https://localhost:8080/"
        },
        "outputId": "69c0c5c0-1132-43e9-c6a6-4ec6e6e6abed"
      },
      "execution_count": 100,
      "outputs": [
        {
          "output_type": "stream",
          "name": "stdout",
          "text": [
            "MSE: 0.07890932\n"
          ]
        }
      ]
    }
  ],
  "metadata": {
    "accelerator": "GPU",
    "colab": {
      "provenance": [],
      "gpuType": "T4",
      "include_colab_link": true
    },
    "kernelspec": {
      "display_name": "Python 3",
      "name": "python3"
    },
    "language_info": {
      "codemirror_mode": {
        "name": "ipython",
        "version": 3
      },
      "file_extension": ".py",
      "mimetype": "text/x-python",
      "name": "python",
      "nbconvert_exporter": "python",
      "pygments_lexer": "ipython3",
      "version": "3.10.12"
    }
  },
  "nbformat": 4,
  "nbformat_minor": 0
}